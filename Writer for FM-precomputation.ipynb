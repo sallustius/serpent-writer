{
 "cells": [
  {
   "cell_type": "markdown",
   "metadata": {},
   "source": [
    "# 1. Super-cell writer\n",
    "\n",
    "A code that generate 2D Serpent input files to perform FM precomputation. \n",
    "\n",
    "## 1.1. Content\n",
    "\n",
    "* objectZoo: contains the  super-cells building blocks.\n",
    "\n",
    "    * Pin(name, dimensions, materials)\n",
    "    * Assm(name, pin_map, pitch, type_lattice)\n",
    "    * Cell(name, assm_map, pitch, type_lattice)\n",
    "    * Geometry(name, pin_set, assm_set, bc)\n",
    "    * Material(name, density, temperature, composition, moder)\n",
    "    * FissionMatrix(type_fm, limits)\n",
    "\n",
    "\n",
    "\n",
    "* inputWriter: a collection of writers to create the Serpent input file. Inputs:\n",
    "    * filePath, string\n",
    "    * Geometry, object\n",
    "    * Materials, objects List\n",
    "    * Settings, dictionary\n",
    "    * FissionMatrix, object."
   ]
  },
  {
   "cell_type": "markdown",
   "metadata": {},
   "source": [
    "## 1.2. Example "
   ]
  },
  {
   "cell_type": "code",
   "execution_count": 1,
   "metadata": {
    "collapsed": true
   },
   "outputs": [],
   "source": [
    "# Import classes\n",
    "from objectZoo import Pin, Assm, Cell, Geometry, Material, FissionMatrix\n",
    "from inputWriter import SerpentWriter as sW"
   ]
  },
  {
   "cell_type": "code",
   "execution_count": 2,
   "metadata": {
    "collapsed": true
   },
   "outputs": [],
   "source": [
    "# FilePaths\n",
    "filePath = 'miniCore.i'\n",
    "libX = '/nv/hp22/dkotlyar6/data/Codes/DATA/sss_endfb7u.xsdata'\n",
    "# Pin\n",
    "radiiP = [0.410, 0.475, 1.26]\n",
    "nPins = 17\n",
    "# Assembly\n",
    "pitchA = nPins*radiiP[-1]\n",
    "pin_map = [['ff'] * nPins] * nPins\n",
    "# SuperCell\n",
    "assm_map = [['a1','a2']]\n",
    "bc = ['vacuum', 'reflective'] # x and y direction"
   ]
  },
  {
   "cell_type": "code",
   "execution_count": 3,
   "metadata": {
    "collapsed": true
   },
   "outputs": [],
   "source": [
    "# %%%%%%%%%%%%%%%%%%%%%%%%%%%%%%%%%%%%%%%%%%%%%%%%%%%%%%\n",
    "# %                 MATERIALS                          %\n",
    "# %%%%%%%%%%%%%%%%%%%%%%%%%%%%%%%%%%%%%%%%%%%%%%%%%%%%%%\n",
    "materials = []\n",
    "# FUEL\n",
    "composition = [['92235.09c', 0.02644492], ['92238.09c', 0.85505247], ['8016.09c', 0.11850261]]\n",
    "fuel = Material('fuel', -10.3067, 900, composition, 'mass')\n",
    "materials.append(fuel)\n",
    "# WATER\n",
    "composition = [['1001.06c', 0.6666667], ['8016.06c', 0.3333333]]\n",
    "water = Material('water', -0.700452, 600, composition, 'molar', 'lwj3.11t ')\n",
    "materials.append(water)\n",
    "# Clad\n",
    "composition = [['40000.06c', 1.0]]\n",
    "clad = Material('clad', -6.5, 600, composition)\n",
    "materials.append(clad)"
   ]
  },
  {
   "cell_type": "code",
   "execution_count": 4,
   "metadata": {
    "collapsed": true
   },
   "outputs": [],
   "source": [
    "# %%%%%%%%%%%%%%%%%%%%%%%%%%%%%%%%%%%%%%%%%%%%%%%%%%%%%%\n",
    "# %                 GEOMETRY                           %\n",
    "# %%%%%%%%%%%%%%%%%%%%%%%%%%%%%%%%%%%%%%%%%%%%%%%%%%%%%%\n",
    "\n",
    "pin1 = Pin('ff', radiiP, [fuel.name, water.name, clad.name])\n",
    "a1 = Assm('a1', pin_map, radiiP[-1])\n",
    "a2 = Assm('a2', pin_map, radiiP[-1])\n",
    "superCell = Cell('Super', assm_map, pitchA, bc)\n",
    "geometry = Geometry('miniCore', [pin1], [a1, a2], superCell)"
   ]
  },
  {
   "cell_type": "code",
   "execution_count": 5,
   "metadata": {
    "collapsed": true
   },
   "outputs": [],
   "source": [
    "# %%%%%%%%%%%%%%%%%%%%%%%%%%%%%%%%%%%%%%%%%%%%%%%%%%%%%%\n",
    "# %                 SETTINGS                           %\n",
    "# %%%%%%%%%%%%%%%%%%%%%%%%%%%%%%%%%%%%%%%%%%%%%%%%%%%%%%\n",
    "settings = {'pop': 100000,\n",
    "            'active cycles': 100,\n",
    "            'inactive cycles': 50,\n",
    "            'k guess': 1.0,\n",
    "            'ures': '92238.09c',\n",
    "            'lib': libX\n",
    "            }"
   ]
  },
  {
   "cell_type": "code",
   "execution_count": 6,
   "metadata": {
    "collapsed": true
   },
   "outputs": [],
   "source": [
    "# %%%%%%%%%%%%%%%%%%%%%%%%%%%%%%%%%%%%%%%%%%%%%%%%%%%%%%\n",
    "# %             FISSION MATRIX                         %\n",
    "# %%%%%%%%%%%%%%%%%%%%%%%%%%%%%%%%%%%%%%%%%%%%%%%%%%%%%%\n",
    "fm = FissionMatrix('cartesian',\n",
    "                   [-pitchA, pitchA, 2*nPins, pitchA/2, pitchA/2, nPins,\n",
    "                    -1e37, 1e37, 1])"
   ]
  },
  {
   "cell_type": "code",
   "execution_count": 7,
   "metadata": {},
   "outputs": [
    {
     "name": "stdout",
     "output_type": "stream",
     "text": [
      "[['a1' 'a2']]\n",
      "Appending fission matrix definition\n",
      "Completed\n"
     ]
    }
   ],
   "source": [
    "# EXECUTE\n",
    "serpentInp = sW(filePath, geometry, materials, settings, fm)\n",
    "serpentInp.write()"
   ]
  },
  {
   "cell_type": "markdown",
   "metadata": {},
   "source": [
    "## 1.3. Application to FM pregeneration stage"
   ]
  },
  {
   "cell_type": "markdown",
   "metadata": {},
   "source": [
    "Current and future work"
   ]
  },
  {
   "cell_type": "code",
   "execution_count": null,
   "metadata": {
    "collapsed": true
   },
   "outputs": [],
   "source": []
  }
 ],
 "metadata": {
  "kernelspec": {
   "display_name": "Python 3",
   "language": "python",
   "name": "python3"
  },
  "language_info": {
   "codemirror_mode": {
    "name": "ipython",
    "version": 3
   },
   "file_extension": ".py",
   "mimetype": "text/x-python",
   "name": "python",
   "nbconvert_exporter": "python",
   "pygments_lexer": "ipython3",
   "version": "3.6.2"
  }
 },
 "nbformat": 4,
 "nbformat_minor": 2
}
